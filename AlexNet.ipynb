{
 "cells": [
  {
   "cell_type": "markdown",
   "id": "6d62d204-3f21-45c4-a544-a90ff4a1887b",
   "metadata": {},
   "source": [
    "## Alexnet网络实现"
   ]
  },
  {
   "cell_type": "code",
   "execution_count": 1,
   "id": "f6af0aa2-fa81-4175-97de-596fa39dee72",
   "metadata": {},
   "outputs": [],
   "source": [
    "import os\n",
    "import sys\n",
    "import time\n",
    "import warnings\n",
    "import torch\n",
    "import numpy as np\n",
    "import pandas as pd\n",
    "from torch import nn"
   ]
  },
  {
   "cell_type": "code",
   "execution_count": 2,
   "id": "e39a518e-135f-40ab-87d2-6a98739efb8c",
   "metadata": {},
   "outputs": [],
   "source": [
    "# 实现alexnet\n",
    "\n",
    "device = torch.device('cuda' if torch.cuda.is_available() else 'cpu')\n",
    "\n",
    "# 构造网络结构\n",
    "class AlexNet(nn.Module):\n",
    "    def __init__(self):\n",
    "        super(AlexNet, self).__init__()\n",
    "        # 构造初始换参数\n",
    "        self.conv = nn.Sequential(\n",
    "            # in_channels, out_channels, kernel_size, stride\n",
    "            nn.Conv2d(1, 96, 11, 4)\n",
    "            ,nn.ReLU()\n",
    "            ,nn.MaxPool2d(3, 2)\n",
    "            \n",
    "            # 减小卷积窗口，使用填充为2来使得输入与输出的高和宽一样\n",
    "            ,nn.Conv2d(96, 256, 5, 1, 2)\n",
    "            ,nn.ReLU()\n",
    "            ,nn.MaxPool2d(3, 2)\n",
    "            \n",
    "            # 连续3个卷积，使用更小的卷积窗口\n",
    "            ,nn.Conv2d(256, 384, 3, 1, 1)\n",
    "            ,nn.ReLU()\n",
    "            ,nn.Conv2d(384, 384, 3, 1, 1)\n",
    "            ,nn.ReLU()\n",
    "            ,nn.Conv2d(384, 256, 3, 1, 1)\n",
    "            ,nn.ReLU()\n",
    "            ,nn.MaxPool2d(3, 2)\n",
    "        )\n",
    "        \n",
    "        # 全连接层，使用dropout策略\n",
    "        self.fc = nn.Sequential(\n",
    "            nn.Linear(256*5*5, 4096)\n",
    "            ,nn.ReLU()\n",
    "            ,nn.Dropout(0.5)\n",
    "            ,nn.Linear(4096, 4096)\n",
    "            ,nn.ReLU()\n",
    "            ,nn.Dropout(0.5)\n",
    "            \n",
    "            # 输出层\n",
    "            ,nn.Linear(4096, 10)\n",
    "        )\n",
    "        \n",
    "    def forward(self, img):\n",
    "        feature = self.conv(img)\n",
    "        output = self.fc(feature.view(img.shape[0], -1))\n",
    "        return output"
   ]
  },
  {
   "cell_type": "code",
   "execution_count": 3,
   "id": "ab6340ef-77c6-45ae-a9f8-f1c3300cef85",
   "metadata": {},
   "outputs": [
    {
     "data": {
      "text/plain": [
       "AlexNet(\n",
       "  (conv): Sequential(\n",
       "    (0): Conv2d(1, 96, kernel_size=(11, 11), stride=(4, 4))\n",
       "    (1): ReLU()\n",
       "    (2): MaxPool2d(kernel_size=3, stride=2, padding=0, dilation=1, ceil_mode=False)\n",
       "    (3): Conv2d(96, 256, kernel_size=(5, 5), stride=(1, 1), padding=(2, 2))\n",
       "    (4): ReLU()\n",
       "    (5): MaxPool2d(kernel_size=3, stride=2, padding=0, dilation=1, ceil_mode=False)\n",
       "    (6): Conv2d(256, 384, kernel_size=(3, 3), stride=(1, 1), padding=(1, 1))\n",
       "    (7): ReLU()\n",
       "    (8): Conv2d(384, 384, kernel_size=(3, 3), stride=(1, 1), padding=(1, 1))\n",
       "    (9): ReLU()\n",
       "    (10): Conv2d(384, 256, kernel_size=(3, 3), stride=(1, 1), padding=(1, 1))\n",
       "    (11): ReLU()\n",
       "    (12): MaxPool2d(kernel_size=3, stride=2, padding=0, dilation=1, ceil_mode=False)\n",
       "  )\n",
       "  (fc): Sequential(\n",
       "    (0): Linear(in_features=6400, out_features=4096, bias=True)\n",
       "    (1): ReLU()\n",
       "    (2): Dropout(p=0.5, inplace=False)\n",
       "    (3): Linear(in_features=4096, out_features=4096, bias=True)\n",
       "    (4): ReLU()\n",
       "    (5): Dropout(p=0.5, inplace=False)\n",
       "    (6): Linear(in_features=4096, out_features=10, bias=True)\n",
       "  )\n",
       ")"
      ]
     },
     "execution_count": 3,
     "metadata": {},
     "output_type": "execute_result"
    }
   ],
   "source": [
    "net = AlexNet()\n",
    "\n",
    "net"
   ]
  },
  {
   "cell_type": "code",
   "execution_count": 4,
   "id": "e22e195a-4c35-4216-842c-7430064cf289",
   "metadata": {},
   "outputs": [],
   "source": [
    "# 读取数据集\n",
    "import torchvision\n",
    "import torchvision.transforms as transforms\n",
    "\n",
    "def load_data_fashion_mnist(batch_size, resize=None):\n",
    "    \n",
    "    # 存储图像数据\n",
    "    trans = []\n",
    "    if resize:\n",
    "        trans.append(transforms.Resize(size=resize))\n",
    "        \n",
    "    trans.append(transforms.ToTensor())\n",
    "    transform = transforms.Compose(trans)\n",
    "    \n",
    "    mnist_train = torchvision.datasets.FashionMNIST(root='data/FashionMNIST'\n",
    "                                                   ,train=True\n",
    "                                                   ,download=True\n",
    "                                                   ,transform=transform)\n",
    "    mnist_test = torchvision.datasets.FashionMNIST(root='data/FashionMNIST'\n",
    "                                                  ,train=False\n",
    "                                                  ,download=True\n",
    "                                                  ,transform=transform)\n",
    "    \n",
    "    if sys.platform.startswith('win'):\n",
    "        num_workers = 0\n",
    "    else:\n",
    "        num_workers = 4\n",
    "        \n",
    "    train_iter = torch.utils.data.DataLoader(mnist_train, batch_size, shuffle=True\n",
    "                                             , num_workers=num_workers)\n",
    "    \n",
    "    test_iter = torch.utils.data.DataLoader(mnist_test, batch_size, shuffle=True\n",
    "                                            , num_workers=num_workers)\n",
    "    \n",
    "    return train_iter, test_iter\n",
    "\n",
    "batch_size = 256\n",
    "train_iter, test_iter = load_data_fashion_mnist(batch_size, resize=224)"
   ]
  },
  {
   "cell_type": "code",
   "execution_count": 5,
   "id": "e076ea97-a048-4eed-9175-8ee8dbc45b65",
   "metadata": {},
   "outputs": [],
   "source": [
    "def evaluate_accuracy(data_iter, net, device=None):\n",
    "    \n",
    "    if device is None and isinstance(net, torch.nn.Module):\n",
    "        # 如果没指定device就使用net的device\n",
    "        device = list(net.parameters())[0].device\n",
    "    acc_sum, n = 0.0, 0\n",
    "    for X, y in data_iter:\n",
    "        if isinstance(net, torch.nn.Module):\n",
    "            # 评估模式, 这会关闭dropout\n",
    "            net.eval()\n",
    "            # .cpu()保证可以进行数值加减\n",
    "            acc_sum += (net(X.to(device)).argmax(dim=1).long() == y.to(device).long()).float().sum().cpu().item()\n",
    "            # 改回训练模式\n",
    "            net.train()\n",
    "        # 自定义的模型, 2.13节之后不会用到, 不考虑GPU\n",
    "        else:\n",
    "            if ('is_training' in net.__code__.co_varnames):\n",
    "                # 将is_training设置成False\n",
    "                acc_sum += (net(X, is_training=False).argmax(dim=1) == y).float().sum().item()\n",
    "            else:\n",
    "                acc_sum += (net(X).argmax(dim=1) == y).float().sum().item()\n",
    "        n += y.shape[0]\n",
    "    return acc_sum / n"
   ]
  },
  {
   "cell_type": "code",
   "execution_count": 6,
   "id": "b86f6fe5-91b7-4f00-bb24-5d528180ac98",
   "metadata": {},
   "outputs": [],
   "source": [
    "def train_ch5(net, train_iter, test_iter, batch_size, optimizer, device, num_epochs):\n",
    "    \n",
    "    # 将模型加载到指定运算器中\n",
    "    net = net.to(device)\n",
    "    print(\"training on \", device)\n",
    "    loss = torch.nn.CrossEntropyLoss()\n",
    "    for epoch in range(num_epochs):\n",
    "        train_l_sum, train_acc_sum, n, batch_count, start = 0.0, 0.0, 0, 0, time.time()\n",
    "        for X, y in train_iter:\n",
    "            X = X.to(device)\n",
    "            y = y.to(device)\n",
    "            y_hat = net(X)\n",
    "            l = loss(y_hat, y)\n",
    "            # 梯度清零\n",
    "            optimizer.zero_grad()\n",
    "            l.backward()\n",
    "            optimizer.step()\n",
    "            train_l_sum += l.cpu().item()\n",
    "            train_acc_sum += (y_hat.argmax(dim=1) == y).sum().cpu().item()\n",
    "            n += y.shape[0]\n",
    "            batch_count += 1\n",
    "        test_acc = evaluate_accuracy(test_iter, net)\n",
    "        print('epoch %d, loss %.4f, train acc %.3f, test acc %.3f, time %.1f sec' % (epoch+1, train_l_sum/batch_count, train_acc_sum/n, test_acc, time.time()-start))"
   ]
  },
  {
   "cell_type": "code",
   "execution_count": 7,
   "id": "ba4f8591-27be-4c16-80d2-062ed296e38b",
   "metadata": {},
   "outputs": [
    {
     "name": "stdout",
     "output_type": "stream",
     "text": [
      "training on  cuda\n",
      "epoch 1, loss 0.7539, train acc 0.708, test acc 0.842, time 181.8 sec\n",
      "epoch 2, loss 0.3572, train acc 0.867, test acc 0.857, time 181.1 sec\n",
      "epoch 3, loss 0.2982, train acc 0.890, test acc 0.897, time 179.0 sec\n",
      "epoch 4, loss 0.2684, train acc 0.900, test acc 0.895, time 178.6 sec\n",
      "epoch 5, loss 0.2437, train acc 0.910, test acc 0.906, time 178.9 sec\n"
     ]
    }
   ],
   "source": [
    "# 训练模型\n",
    "lr, num_epochs = 0.001, 5\n",
    "optimizer = torch.optim.Adam(net.parameters(), lr=lr)\n",
    "\n",
    "train_ch5(net, train_iter, test_iter, batch_size, optimizer, device, num_epochs)"
   ]
  },
  {
   "cell_type": "code",
   "execution_count": null,
   "id": "3541823e-e3b1-473f-b5f2-cf7d0b521fc8",
   "metadata": {},
   "outputs": [],
   "source": []
  },
  {
   "cell_type": "code",
   "execution_count": null,
   "id": "0a1a8f7e-2862-41ea-97af-a6c8103cf2f8",
   "metadata": {},
   "outputs": [],
   "source": []
  }
 ],
 "metadata": {
  "kernelspec": {
   "display_name": "Python 3",
   "language": "python",
   "name": "python3"
  },
  "language_info": {
   "codemirror_mode": {
    "name": "ipython",
    "version": 3
   },
   "file_extension": ".py",
   "mimetype": "text/x-python",
   "name": "python",
   "nbconvert_exporter": "python",
   "pygments_lexer": "ipython3",
   "version": "3.7.1"
  }
 },
 "nbformat": 4,
 "nbformat_minor": 5
}
